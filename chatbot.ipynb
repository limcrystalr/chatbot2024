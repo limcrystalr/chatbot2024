{
  "nbformat": 4,
  "nbformat_minor": 0,
  "metadata": {
    "colab": {
      "provenance": []
    },
    "kernelspec": {
      "name": "python3",
      "display_name": "Python 3"
    },
    "language_info": {
      "name": "python"
    }
  },
  "cells": [
    {
      "cell_type": "code",
      "execution_count": null,
      "metadata": {
        "id": "ML2Fh5iQ7FMn"
      },
      "outputs": [],
      "source": [
        "from google.colab import drive\n",
        "drive.mount('/content/gdrive')\n",
        "\n",
        "# 작업 디렉토리로 이동(코랩의 input폴더)\n",
        "import os\n",
        "\n",
        "os.chdir('/content/gdrive/MyDrive/Colab Notebooks/chatbot2024/')\n",
        "\n",
        "# 워킹 디렉토리확인\n",
        "%pwd\n",
        "\n",
        "# data 폴더 생성 및 디렉토리내 해당 파일 확인\n",
        "#os.makedirs(data_dir, exist_ok=True)\n",
        "%ls"
      ]
    },
    {
      "cell_type": "code",
      "source": [
        "# 패키지 설치\n",
        "%pip install --upgrade --quiet  streamlit pypdf PyPDF2 langchain langchain-community langchainhub langchain-openai chromadb bs4 faiss-cpu"
      ],
      "metadata": {
        "id": "TBrWULqx8ccD"
      },
      "execution_count": null,
      "outputs": []
    },
    {
      "cell_type": "code",
      "source": [
        "! pip install -U sentence-transformers  # 허깅 페이스에서 임베딩 알고리즘"
      ],
      "metadata": {
        "id": "OlbVC7Eq8mCa"
      },
      "execution_count": null,
      "outputs": []
    },
    {
      "cell_type": "code",
      "source": [
        "# 환경변수 준비 - Open AI\n",
        "import getpass\n",
        "import os\n",
        "\n",
        "# 키값 입력\n",
        "OPENAI_API_KEY = \"\""
      ],
      "metadata": {
        "id": "d_CFzTHD84cs"
      },
      "execution_count": null,
      "outputs": []
    },
    {
      "cell_type": "code",
      "source": [
        "import bs4\n",
        "#from langchain import hub\n",
        "#from loguru import logger\n",
        "\n",
        "#문서 불러오기/분할/임베딩/저장\n",
        "\n",
        "# 언어 모델\n",
        "\n",
        "# 메모리/툴/체인\n",
        "\n",
        "#from langchain_core.output_parsers import StrOutputParser\n",
        "#from langchain_core.runnables import RunnablePassthrough\n",
        "#from langchain_openai import ChatOpenAI, OpenAIEmbeddings\n",
        "\n",
        "\n",
        "from langchain.document_loaders import UnstructuredPDFLoader,UnstructuredPowerPointLoader, PyPDFDirectoryLoader\n",
        "from langchain.text_splitter import CharacterTextSplitter\n",
        "from langchain.embeddings import HuggingFaceEmbeddings\n",
        "from langchain.vectorstores import FAISS\n",
        "from langchain.chains import RetrievalQA\n",
        "from langchain.chat_models import ChatOpenAI\n",
        "from langchain.prompts import PromptTemplate\n",
        "#from sentence_transformers import SentenceTransformer, util\n",
        "import numpy as np\n",
        "import shutil\n",
        "import os\n",
        "\n",
        "import webbrowser\n",
        "\n",
        "import streamlit as st\n",
        "import tiktoken\n",
        "\n",
        "\n",
        "from langchain.chains import ConversationalRetrievalChain\n",
        "from langchain.chat_models import ChatOpenAI\n",
        "\n",
        "from langchain.document_loaders import PyPDFLoader, PyPDFDirectoryLoader\n",
        "from langchain.document_loaders import Docx2txtLoader\n",
        "from langchain.document_loaders import UnstructuredPowerPointLoader\n",
        "\n",
        "from langchain.text_splitter import RecursiveCharacterTextSplitter\n",
        "from langchain.embeddings import HuggingFaceEmbeddings\n",
        "\n",
        "from langchain.memory import ConversationBufferMemory\n",
        "from langchain.vectorstores import FAISS\n",
        "\n",
        "# from streamlit_chat import message\n",
        "from langchain.callbacks import get_openai_callback\n",
        "from langchain.memory import StreamlitChatMessageHistory"
      ],
      "metadata": {
        "id": "c81sYRuK9Ugz"
      },
      "execution_count": null,
      "outputs": []
    },
    {
      "cell_type": "code",
      "source": [
        "from langchain.document_loaders import UnstructuredPDFLoader,UnstructuredPowerPointLoader, PyPDFDirectoryLoader\n",
        "from langchain.document_loaders import PyPDFLoader\n",
        "from langchain.text_splitter import CharacterTextSplitter\n",
        "from langchain.embeddings import HuggingFaceEmbeddings\n",
        "from langchain.vectorstores import FAISS\n",
        "from langchain.chains import RetrievalQA\n",
        "from langchain.chat_models import ChatOpenAI\n",
        "from langchain.prompts import PromptTemplate\n",
        "from sentence_transformers import SentenceTransformer, util\n",
        "import numpy as np\n",
        "import shutil\n",
        "import os\n",
        "\n",
        "top_k= 2   # 여기서 몇개 가져올건지 결정됨\n",
        "\n",
        "DATA_PATH='./data/'\n",
        "DOC_PATH='./docs/'\n",
        "\n",
        "embedder=SentenceTransformer(\"jhgan/ko-sroberta-multitask\") # 중요\n",
        "\n",
        "%ls"
      ],
      "metadata": {
        "id": "YMLfgcOq9WlS"
      },
      "execution_count": null,
      "outputs": []
    },
    {
      "cell_type": "code",
      "source": [
        "# 디렉토리\n",
        "def get_pdf_files (directory):\n",
        "  file_list = os.listdir(directory)\n",
        "  pdf_files = [file for file in file_list if file.endswith('.pdf')]\n",
        "  return pdf_files\n",
        "\n",
        "def remove_underscore_after_pdf (pdf_files):\n",
        "  modified_pdf_files = []\n",
        "\n",
        "  for file in pdf_files:\n",
        "    base_name = os.path.splitext(file)[0]\n",
        "    base_name_without_underscore = base_name.split('_')[0]\n",
        "    new_file_name = f\" {base_name_without_underscore}\"\n",
        "    modified_pdf_files.append(new_file_name)\n",
        "\n",
        "  return modified_pdf_files"
      ],
      "metadata": {
        "id": "tmjGmqTP9b36"
      },
      "execution_count": null,
      "outputs": []
    },
    {
      "cell_type": "code",
      "source": [
        "# 자모깨짐\n",
        "import unicodedata\n",
        "def chg_itemname(itemnames):\n",
        "    itemlists = list()\n",
        "    for itemname in itemnames:\n",
        "      itemlists.append(unicodedata.normalize('NFC', itemname))\n",
        "      # print(unicodedata.normalize('NFC', itemname))\n",
        "    return itemlists"
      ],
      "metadata": {
        "id": "qOGLwMAM9mkK"
      },
      "execution_count": null,
      "outputs": []
    },
    {
      "cell_type": "code",
      "source": [
        "#가져온 파일을 doc 폴더에 넣음\n",
        "def copy_files_to_another_folder (source_folder, target_folder, files_to_copy):#대상 폴더가 없으면 생성\n",
        "    if not os.path.exists(target_folder):\n",
        "        os.makedirs(target_folder)\n",
        "\n",
        "    for file_to_copy in files_to_copy:\n",
        "        source_path = os.path.join(source_folder, file_to_copy)\n",
        "        target_path = os.path.join(target_folder, file_to_copy)\n",
        "\n",
        "        try:\n",
        "            shutil.copy2(source_path, target_path)\n",
        "            print(f\"File '{file_to_copy}' copied successfully.\")\n",
        "        except FileNotFoundError:\n",
        "            print(f\"File '{file_to_copy}' not found in the source folder.\")"
      ],
      "metadata": {
        "id": "CsvGG79r9qz0"
      },
      "execution_count": null,
      "outputs": []
    },
    {
      "cell_type": "code",
      "source": [
        "# 파일 이름 가져오기\n",
        "pdf_files_full_name = get_pdf_files(DATA_PATH)\n",
        "\n",
        "pdf_files_name = chg_itemname(remove_underscore_after_pdf (pdf_files_full_name))\n",
        "\n",
        "filename_embeddings = embedder.encode(pdf_files_name, convert_to_tensor=True)"
      ],
      "metadata": {
        "id": "KWcIq_1j9sqC"
      },
      "execution_count": null,
      "outputs": []
    },
    {
      "cell_type": "code",
      "source": [
        "# 문서 선택\n",
        "\n",
        "question = \"의료 설명해줘\""
      ],
      "metadata": {
        "id": "PjYtsTUy9vGa"
      },
      "execution_count": null,
      "outputs": []
    },
    {
      "cell_type": "code",
      "source": [
        "# 파일명을 질문과 유사한 파일명만 가져오기\n",
        "\n",
        "question_embedding = embedder.encode(question, convert_to_tensor=True)\n",
        "cos_scores = util.pytorch_cos_sim (question_embedding, filename_embeddings).cpu()\n",
        "\n",
        "top_results = np.argpartition(-cos_scores, range (top_k)) [0: top_k]\n",
        "files_to_copy= []\n",
        "\n",
        "for idx in top_results [0] [0:top_k]:\n",
        "  files_to_copy.append(pdf_files_full_name [idx])\n",
        "\n",
        "copy_files_to_another_folder (DATA_PATH, DOC_PATH, files_to_copy)"
      ],
      "metadata": {
        "id": "bsQHVl_t9xfC"
      },
      "execution_count": null,
      "outputs": []
    },
    {
      "cell_type": "code",
      "source": [
        "loader = PyPDFDirectoryLoader (DOC_PATH)\n",
        "\n",
        "len (documents)"
      ],
      "metadata": {
        "id": "FxcYHu3n9z9i"
      },
      "execution_count": null,
      "outputs": []
    },
    {
      "cell_type": "code",
      "source": [
        "loader = PyPDFDirectoryLoader(DOC_PATH)\n",
        "documents = loader.load()\n",
        "print(documents)"
      ],
      "metadata": {
        "id": "IzPefJ0s4BaW"
      },
      "execution_count": null,
      "outputs": []
    },
    {
      "cell_type": "code",
      "source": [
        "documents[1]"
      ],
      "metadata": {
        "id": "rixoHuG792AK"
      },
      "execution_count": null,
      "outputs": []
    },
    {
      "cell_type": "code",
      "source": [
        "# 파일명 추출\n",
        "cleaned_documents = []\n",
        "for document in documents:\n",
        "  cleaned_document = document #metadata에서 파일명을 추출합니다.\n",
        "  source_path = document.metadata.get('source', '')\n",
        "  file_name = source_path.split('docs/')[-1]\n",
        "  file_name = file_name.split('_')[0]\n",
        "  file_name = unicodedata.normalize('NFC', file_name)\n",
        "\n",
        "  page_content=document.page_content\n",
        "\n",
        "  cleaned_text = f\"File Name: {file_name} \\n\"\n",
        "\n",
        "\n",
        "# 데이터 클린징..\n",
        "  #1x00 문자를 제거하고 깨끗한 텍스트를 얻습니다.\n",
        "  # 특수 문자 제거 .. 한글 형태소 분서, 띄어쓰기..,\n",
        "  cleaned_text +=page_content.replace(\"\\x00\", \"\") # x00을 공백으로 처리\n",
        "  cleaned_document.page_content = cleaned_text\n",
        "  cleaned_documents.append(cleaned_document)"
      ],
      "metadata": {
        "id": "o8VjXac-_3UL"
      },
      "execution_count": null,
      "outputs": []
    },
    {
      "cell_type": "code",
      "source": [
        "len(cleaned_documents)"
      ],
      "metadata": {
        "id": "IjVAho0cACpj"
      },
      "execution_count": null,
      "outputs": []
    },
    {
      "cell_type": "code",
      "source": [
        "cleaned_documents[16]"
      ],
      "metadata": {
        "id": "okM6U4UtAEQy"
      },
      "execution_count": null,
      "outputs": []
    },
    {
      "cell_type": "code",
      "source": [
        "from langchain.text_splitter import RecursiveCharacterTextSplitter\n",
        "\n",
        "text_splitter = RecursiveCharacterTextSplitter(\n",
        "    chunk_size=1000,\n",
        "    chunk_overlap=200,\n",
        "    add_start_index=True\n",
        ")\n",
        "all_splits = text_splitter.split_documents(cleaned_documents)"
      ],
      "metadata": {
        "id": "YJhQ8q9xAGOL"
      },
      "execution_count": null,
      "outputs": []
    },
    {
      "cell_type": "code",
      "source": [
        "# 허깅 페이스 기반 임베딩\n",
        "from langchain_community.vectorstores import Chroma\n",
        "from langchain.embeddings import HuggingFaceEmbeddings\n",
        "\n",
        "embeddings=HuggingFaceEmbeddings(\n",
        "    model_name = \"jhgan/ko-sroberta-multitask\",\n",
        "    encode_kwargs= {'normalize_embeddings': True}\n",
        "    )\n",
        "\n",
        "vectorstore = FAISS.from_documents(\n",
        "#vectorstore = Chroma.from_documents(\n",
        "    documents=all_splits,\n",
        "    embedding=embeddings)"
      ],
      "metadata": {
        "id": "Ehavn-5BAKMq"
      },
      "execution_count": null,
      "outputs": []
    },
    {
      "cell_type": "code",
      "source": [
        "template = \"\"\" 당신은 의학에 대해 대답하는 챗봇입니다. 주어진 문서에 있는 내용으로 대답하시오.\n",
        "만약 문서에 없는 내용이면 문서에 존재하지 않는다고 답변하세요. 모른다고 지어내서 말하지 말하세요.\n",
        "File Name : 을 참조해서 어떤 절차에 대한 문서인지 파악하고 질문과 동일한 절차의 내용만 사용하세요.\n",
        "\n",
        "{context}\n",
        "\n",
        "질문 : {question}\n",
        "너의 답변 : \"\"\"\n",
        "\n",
        "prompt = PromptTemplate(input_variables= [\"context\", \"question\"], template=template)"
      ],
      "metadata": {
        "id": "I05ZL4HuAL7j"
      },
      "execution_count": null,
      "outputs": []
    },
    {
      "cell_type": "code",
      "source": [
        "len(all_splits)"
      ],
      "metadata": {
        "id": "G5O-4HymAsFV"
      },
      "execution_count": null,
      "outputs": []
    },
    {
      "cell_type": "code",
      "source": [
        "# 문서 컨텐츠 확인\n",
        "len(all_splits[0].page_content)"
      ],
      "metadata": {
        "id": "j-QFC1uEAto7"
      },
      "execution_count": null,
      "outputs": []
    },
    {
      "cell_type": "code",
      "source": [],
      "metadata": {
        "id": "Kp7fS3NTAvLC"
      },
      "execution_count": null,
      "outputs": []
    }
  ]
}